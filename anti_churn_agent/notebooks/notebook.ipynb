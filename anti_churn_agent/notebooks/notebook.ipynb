{
 "cells": [
  {
   "cell_type": "markdown",
   "id": "2457f0bb",
   "metadata": {},
   "source": [
    "points to add\n",
    "- This is only for demo purpose, hence, a UI-based chat for users to interact. However, in real world, we can consider giving agents a power to autonomously work as an anti-church agent that does periodically monitor each client's activity and data over 1) campaign usage, 2)support ticket(Jira), 3) product adoptions, etc\n",
    "- In real world, Agent can also talk to other tools such as 1)email server, 2) internal communication tools (Slack, MS teams, etc) to notify the right person to engage. \n",
    "- In a more aggressive scenario, we could have the agent face the real customers to engage to prevent churn, but this will require more of a robust agent architecture and workflow. \n",
    "- Purely for the MVP purpose, the model is gpt-4o-mini. However, in real world, we can consider diversifying models that are the right fit for each agentic task in the multi-agent system. \n",
    "- The agent has a capability of doing a web search (Brave Search via MCP). However, it is not engineered to just do research but mostly when prompted for \n",
    "1) General Information Gathering: When you're looking for insights, news, or articles on a specific topic.\n",
    "2) Competitor Analysis: When you want to analyze competitors or their marketing strategies, especially relevant to our discussion about Appier.\n",
    "3) Recent Events: If you're looking for updates on industry trends or current market conditions. \n"
   ]
  },
  {
   "cell_type": "markdown",
   "id": "29fe4457",
   "metadata": {},
   "source": []
  },
  {
   "cell_type": "markdown",
   "id": "47e06dd0",
   "metadata": {},
   "source": [
    "2025/09/01\n",
    "Things to do:\n",
    "- add memory to the chat (no rag needed)\n",
    "- define how agent calls websearch tool and  validate when agent calls websearch tool "
   ]
  }
 ],
 "metadata": {
  "kernelspec": {
   "display_name": ".venv",
   "language": "python",
   "name": "python3"
  },
  "language_info": {
   "name": "python",
   "version": "3.12.10"
  }
 },
 "nbformat": 4,
 "nbformat_minor": 5
}
